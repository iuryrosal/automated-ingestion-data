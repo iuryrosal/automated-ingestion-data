{
 "cells": [
  {
   "cell_type": "code",
   "execution_count": null,
   "metadata": {},
   "outputs": [],
   "source": [
    "from sqlalchemy import create_engine"
   ]
  },
  {
   "cell_type": "code",
   "execution_count": null,
   "metadata": {},
   "outputs": [
    {
     "name": "stdout",
     "output_type": "stream",
     "text": [
      "Collecting psycopg2\n",
      "  Downloading psycopg2-2.9.3-cp38-cp38-win_amd64.whl (1.1 MB)\n",
      "Installing collected packages: psycopg2\n",
      "Successfully installed psycopg2-2.9.3\n"
     ]
    }
   ],
   "source": [
    "!pip install psycopg2"
   ]
  },
  {
   "cell_type": "code",
   "execution_count": null,
   "metadata": {},
   "outputs": [],
   "source": [
    "from src.conf.config import config_variables\n",
    "\n",
    "config = config_variables()"
   ]
  },
  {
   "cell_type": "code",
   "execution_count": null,
   "metadata": {},
   "outputs": [
    {
     "data": {
      "text/plain": [
       "{'POSTGRES_USER': 'root',\n",
       " 'POSTGRES_PASSWORD': 'password',\n",
       " 'POSTGRES_PORT': '5432',\n",
       " 'POSTGRES_DB': 'data_vehicles'}"
      ]
     },
     "execution_count": 26,
     "metadata": {},
     "output_type": "execute_result"
    }
   ],
   "source": [
    "config"
   ]
  },
  {
   "cell_type": "code",
   "execution_count": null,
   "metadata": {},
   "outputs": [],
   "source": [
    "class Database:\n",
    "  def __init__(self, config_dict: dict) -> None:\n",
    "    self.conf = config_dict\n",
    "  \n",
    "  def connect_db(self):\n",
    "\n",
    "    conn_str = f'''postgresql+psycopg2://{self.conf[\"POSTGRES_USER\"]}:\n",
    "                    {self.conf[\"POSTGRES_PASSWORD\"]}@\n",
    "                    {self.conf[\"POSTGRES_HOST\"]}:\n",
    "                    {self.conf[\"POSTGRES_PORT\"]}/\n",
    "                    {self.conf[\"POSTGRES_DB\"]}'''\n",
    "\n",
    "    engine = create_engine(conn_str)\n",
    "    connection = engine.connect()\n",
    "    return connection"
   ]
  },
  {
   "cell_type": "code",
   "execution_count": null,
   "metadata": {},
   "outputs": [],
   "source": []
  }
 ],
 "metadata": {
  "kernelspec": {
   "display_name": "Python 3.8.8 ('base')",
   "language": "python",
   "name": "python3"
  },
  "language_info": {
   "codemirror_mode": {
    "name": "ipython",
    "version": 3
   },
   "file_extension": ".py",
   "mimetype": "text/x-python",
   "name": "python",
   "nbconvert_exporter": "python",
   "pygments_lexer": "ipython3",
   "version": "3.8.8"
  },
  "orig_nbformat": 4,
  "vscode": {
   "interpreter": {
    "hash": "5eba2f6daac758e0c4eb74cbbf3fd787eaf14bd08a71327f2f2275e3d00aa03b"
   }
  }
 },
 "nbformat": 4,
 "nbformat_minor": 2
}
